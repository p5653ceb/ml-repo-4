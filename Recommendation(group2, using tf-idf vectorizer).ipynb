{
 "cells": [
  {
   "cell_type": "code",
   "execution_count": 1,
   "metadata": {},
   "outputs": [],
   "source": [
    "from recommendation import BrunchRecommendation\n",
    "import pickle"
   ]
  },
  {
   "cell_type": "code",
   "execution_count": 2,
   "metadata": {},
   "outputs": [],
   "source": [
    "with open('./Dataset_for_group2_recommendation(using tf-idf)/train.pickle', 'rb') as f:\n",
    "    train = pickle.load(f)\n",
    "\n",
    "with open('./Dataset_for_group2_recommendation(using tf-idf)/users.pickle', 'rb') as f:\n",
    "    users = pickle.load(f)\n",
    "\n",
    "with open('./Dataset_for_group2_recommendation(using tf-idf)/target_info.pickle', 'rb') as f:\n",
    "    target_info = pickle.load(f)\n",
    "    \n",
    "with open('./Dataset_for_group2_recommendation(using tf-idf)/group_2_list.pickle', 'rb') as f:\n",
    "    group_2_list = pickle.load(f)\n",
    "\n",
    "with open('./Dataset_for_group2_recommendation(using tf-idf)/popular_list.pickle', 'rb') as f:\n",
    "    popular_list = pickle.load(f)\n",
    "\n",
    "with open('./Dataset_for_group2_recommendation(using tf-idf)/reader_keyword_sim_sorted_ind.pickle', 'rb') as f:\n",
    "    reader_keyword_sim_sorted_ind = pickle.load(f)\n",
    "    \n",
    "with open('./Dataset_for_group2_recommendation(using tf-idf)/reader_author_keyword_sim_sorted_ind.pickle', 'rb') as f:\n",
    "    reader_author_keyword_sim_sorted_ind = pickle.load(f)\n",
    "    \n",
    "reader_key_sum = pd.read_pickle('./Dataset_for_group2_recommendation(using tf-idf)/reader_key_sum.pickle')\n",
    "author_key_sum = pd.read_pickle('./Dataset_for_group2_recommendation(using tf-idf)/author_key_sum.pickle')"
   ]
  },
  {
   "cell_type": "code",
   "execution_count": 3,
   "metadata": {},
   "outputs": [],
   "source": [
    "recom = BrunchRecommendation(train, users, target_info, popular_list)\n",
    "recom.path = r\"C:\\mecab\\mecab-ko-dic\""
   ]
  },
  {
   "cell_type": "code",
   "execution_count": 4,
   "metadata": {
    "scrolled": true
   },
   "outputs": [
    {
     "name": "stderr",
     "output_type": "stream",
     "text": [
      "\r",
      "  0%|          | 0/1219 [00:00<?, ?it/s]"
     ]
    },
    {
     "name": "stdout",
     "output_type": "stream",
     "text": [
      "group_2 recommendation...\n"
     ]
    },
    {
     "name": "stderr",
     "output_type": "stream",
     "text": [
      "100%|██████████| 1219/1219 [59:50<00:00,  2.95s/it] \n"
     ]
    }
   ],
   "source": [
    "# group2 recommendation using tf-idf & cosine similarity\n",
    "print(\"group_2 recommendation...\")\n",
    "group_2_recom = recom.total_recommendation_2(group_2_list, reader_key_sum, author_key_sum, reader_keyword_sim_sorted_ind, reader_author_keyword_sim_sorted_ind)"
   ]
  },
  {
   "cell_type": "code",
   "execution_count": 5,
   "metadata": {},
   "outputs": [
    {
     "data": {
      "text/html": [
       "<div>\n",
       "<style scoped>\n",
       "    .dataframe tbody tr th:only-of-type {\n",
       "        vertical-align: middle;\n",
       "    }\n",
       "\n",
       "    .dataframe tbody tr th {\n",
       "        vertical-align: top;\n",
       "    }\n",
       "\n",
       "    .dataframe thead th {\n",
       "        text-align: right;\n",
       "    }\n",
       "</style>\n",
       "<table border=\"1\" class=\"dataframe\">\n",
       "  <thead>\n",
       "    <tr style=\"text-align: right;\">\n",
       "      <th></th>\n",
       "      <th>target id</th>\n",
       "      <th>recommendation</th>\n",
       "    </tr>\n",
       "  </thead>\n",
       "  <tbody>\n",
       "    <tr>\n",
       "      <th>0</th>\n",
       "      <td>#6516c871163aeafd8a51d5db44148aca</td>\n",
       "      <td>[@hjl0520_29, @freeedrawing_50, @hjl0520_27, @...</td>\n",
       "    </tr>\n",
       "    <tr>\n",
       "      <th>1</th>\n",
       "      <td>#c4161080cbad8739f8f5ae92e8839250</td>\n",
       "      <td>[@skyscanner_486, @oaloharing_41, @healtip_340...</td>\n",
       "    </tr>\n",
       "    <tr>\n",
       "      <th>2</th>\n",
       "      <td>#892dd0e3600c92b549d73086d3be6295</td>\n",
       "      <td>[@chasiljang_17, @northalps_50, @tjo_11, @hell...</td>\n",
       "    </tr>\n",
       "    <tr>\n",
       "      <th>3</th>\n",
       "      <td>#205842c13bd08cf5e8cf8915c7b576f5</td>\n",
       "      <td>[@gudwns9011_10, @jisundream_170, @ddamimovie_...</td>\n",
       "    </tr>\n",
       "    <tr>\n",
       "      <th>4</th>\n",
       "      <td>#d26b3fbd2ed57bd99e709ead073b5787</td>\n",
       "      <td>[@shinheekim_37, @donghlim_25, @leedh200_157, ...</td>\n",
       "    </tr>\n",
       "    <tr>\n",
       "      <th>...</th>\n",
       "      <td>...</td>\n",
       "      <td>...</td>\n",
       "    </tr>\n",
       "    <tr>\n",
       "      <th>1214</th>\n",
       "      <td>#09c5880e0ed27e37275dc8378601747d</td>\n",
       "      <td>[@ehahdp83_170, @travel-bike_963, @donghlim_25...</td>\n",
       "    </tr>\n",
       "    <tr>\n",
       "      <th>1215</th>\n",
       "      <td>#28f6ed60737aafe587e3ec4eb53b23db</td>\n",
       "      <td>[@dailydrinker_26, @donghlim_25, @bookguru_62,...</td>\n",
       "    </tr>\n",
       "    <tr>\n",
       "      <th>1216</th>\n",
       "      <td>#1355cc9f0fbee79c47b9e748d4718717</td>\n",
       "      <td>[@dryjshin_257, @uggae85_198, @hitchwill_2068,...</td>\n",
       "    </tr>\n",
       "    <tr>\n",
       "      <th>1217</th>\n",
       "      <td>#270f067fec220d7ab9e36ba69f8b94d4</td>\n",
       "      <td>[@spare3248_8, @langman_56, @peace-humor_154, ...</td>\n",
       "    </tr>\n",
       "    <tr>\n",
       "      <th>1218</th>\n",
       "      <td>#4dfad4d56fa3863b75e8907ff5f8a149</td>\n",
       "      <td>[@skyscanner_486, @dengine_122, @riverside_77,...</td>\n",
       "    </tr>\n",
       "  </tbody>\n",
       "</table>\n",
       "<p>1219 rows × 2 columns</p>\n",
       "</div>"
      ],
      "text/plain": [
       "                              target id  \\\n",
       "0     #6516c871163aeafd8a51d5db44148aca   \n",
       "1     #c4161080cbad8739f8f5ae92e8839250   \n",
       "2     #892dd0e3600c92b549d73086d3be6295   \n",
       "3     #205842c13bd08cf5e8cf8915c7b576f5   \n",
       "4     #d26b3fbd2ed57bd99e709ead073b5787   \n",
       "...                                 ...   \n",
       "1214  #09c5880e0ed27e37275dc8378601747d   \n",
       "1215  #28f6ed60737aafe587e3ec4eb53b23db   \n",
       "1216  #1355cc9f0fbee79c47b9e748d4718717   \n",
       "1217  #270f067fec220d7ab9e36ba69f8b94d4   \n",
       "1218  #4dfad4d56fa3863b75e8907ff5f8a149   \n",
       "\n",
       "                                         recommendation  \n",
       "0     [@hjl0520_29, @freeedrawing_50, @hjl0520_27, @...  \n",
       "1     [@skyscanner_486, @oaloharing_41, @healtip_340...  \n",
       "2     [@chasiljang_17, @northalps_50, @tjo_11, @hell...  \n",
       "3     [@gudwns9011_10, @jisundream_170, @ddamimovie_...  \n",
       "4     [@shinheekim_37, @donghlim_25, @leedh200_157, ...  \n",
       "...                                                 ...  \n",
       "1214  [@ehahdp83_170, @travel-bike_963, @donghlim_25...  \n",
       "1215  [@dailydrinker_26, @donghlim_25, @bookguru_62,...  \n",
       "1216  [@dryjshin_257, @uggae85_198, @hitchwill_2068,...  \n",
       "1217  [@spare3248_8, @langman_56, @peace-humor_154, ...  \n",
       "1218  [@skyscanner_486, @dengine_122, @riverside_77,...  \n",
       "\n",
       "[1219 rows x 2 columns]"
      ]
     },
     "execution_count": 5,
     "metadata": {},
     "output_type": "execute_result"
    }
   ],
   "source": [
    "pd.DataFrame(group_2_recom)"
   ]
  },
  {
   "cell_type": "code",
   "execution_count": null,
   "metadata": {},
   "outputs": [],
   "source": []
  }
 ],
 "metadata": {
  "kernelspec": {
   "display_name": "Python 3",
   "language": "python",
   "name": "python3"
  },
  "language_info": {
   "codemirror_mode": {
    "name": "ipython",
    "version": 3
   },
   "file_extension": ".py",
   "mimetype": "text/x-python",
   "name": "python",
   "nbconvert_exporter": "python",
   "pygments_lexer": "ipython3",
   "version": "3.7.6"
  },
  "toc": {
   "base_numbering": 1,
   "nav_menu": {},
   "number_sections": true,
   "sideBar": true,
   "skip_h1_title": false,
   "title_cell": "Table of Contents",
   "title_sidebar": "Contents",
   "toc_cell": false,
   "toc_position": {},
   "toc_section_display": true,
   "toc_window_display": false
  }
 },
 "nbformat": 4,
 "nbformat_minor": 4
}
